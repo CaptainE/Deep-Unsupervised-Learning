{
  "nbformat": 4,
  "nbformat_minor": 0,
  "metadata": {
    "colab": {
      "name": "HW2.ipynb",
      "provenance": [],
      "collapsed_sections": []
    },
    "kernelspec": {
      "name": "python3",
      "display_name": "Python 3"
    },
    "accelerator": "GPU"
  },
  "cells": [
    {
      "cell_type": "markdown",
      "metadata": {
        "id": "IB5L0i_Xa6N3",
        "colab_type": "text"
      },
      "source": [
        "# Deep unsupervised learning HW 2"
      ]
    },
    {
      "cell_type": "code",
      "metadata": {
        "id": "3nm-WZ4Va5n8",
        "colab_type": "code",
        "colab": {}
      },
      "source": [
        "import numpy as np\n",
        "def sample_data():\n",
        "  count = 6000\n",
        "  rand = np.random.RandomState(0)\n",
        "  a = [[-1.5, 2.5]] + rand.randn(count // 3, 2) * 0.2\n",
        "  b = [[1.5, 2.5]] + rand.randn(count // 3, 2) * 0.2\n",
        "  c = np.c_[2 * np.cos(np.linspace(0, np.pi, count // 3)),\n",
        "  -np.sin(np.linspace(0, np.pi, count // 3))]\n",
        "\n",
        "  c += rand.randn(*c.shape) * 0.2\n",
        "  data_x = np.concatenate([a, b, c], axis=0)\n",
        "  data_y = np.array([0] * len(a) + [1] * len(b) + [2] * len(c))\n",
        "  perm = rand.permutation(len(data_x))\n",
        "  return data_x[perm], data_y[perm]"
      ],
      "execution_count": 0,
      "outputs": []
    },
    {
      "cell_type": "code",
      "metadata": {
        "id": "oODSDOfpbCXw",
        "colab_type": "code",
        "colab": {}
      },
      "source": [
        "X, y  = sample_data()"
      ],
      "execution_count": 0,
      "outputs": []
    },
    {
      "cell_type": "code",
      "metadata": {
        "id": "ick0_fWKbOfx",
        "colab_type": "code",
        "colab": {}
      },
      "source": [
        "import matplotlib.pyplot as plt"
      ],
      "execution_count": 0,
      "outputs": []
    },
    {
      "cell_type": "code",
      "metadata": {
        "id": "x6LSOT0Llg4K",
        "colab_type": "code",
        "outputId": "723a9593-824b-4d1d-b614-7952b6dc9ec6",
        "colab": {
          "base_uri": "https://localhost:8080/",
          "height": 269
        }
      },
      "source": [
        "plt.hist2d(X[:,0],X[:,1])\n",
        "plt.show()"
      ],
      "execution_count": 0,
      "outputs": [
        {
          "output_type": "display_data",
          "data": {
            "image/png": "[encoded data removed]",
            "text/plain": [
              "<Figure size 432x288 with 1 Axes>"
            ]
          },
          "metadata": {
            "tags": []
          }
        }
      ]
    },
    {
      "cell_type": "markdown",
      "metadata": {
        "id": "wL0hZhYJbcvd",
        "colab_type": "text"
      },
      "source": [
        "Different paramters"
      ]
    },
    {
      "cell_type": "code",
      "metadata": {
        "id": "C7ukerR1bhO1",
        "colab_type": "code",
        "colab": {}
      },
      "source": [
        "import torch \n",
        "import torch.nn as nn\n",
        "from torch.distributions import Normal\n",
        "import torch.nn.functional as F"
      ],
      "execution_count": 0,
      "outputs": []
    },
    {
      "cell_type": "code",
      "metadata": {
        "id": "qJCgzgCMfXJ8",
        "colab_type": "code",
        "colab": {}
      },
      "source": [
        "class flow(nn.Module):\n",
        "    \n",
        "    def __init__(self,k=6):\n",
        "        \n",
        "        super(flow,self).__init__()\n",
        "        self.k=k\n",
        "        \n",
        "        #layers\n",
        "        self.layers= nn.Sequential(nn.Linear(1,100),\n",
        "                                  nn.Tanh()\n",
        "                                  )\n",
        "        \n",
        "        self.network = nn.Sequential(*self.layers)\n",
        "        self.pi = nn.Linear(100,self.k)\n",
        "        self.mu = nn.Linear(100,self.k)\n",
        "        self.sigma = nn.Linear(100,self.k)\n",
        "\n",
        "        \n",
        "    def forward(self,x):\n",
        "        x = self.network(x)\n",
        "        pi = F.softmax(self.pi(x),dim=-1).view(-1,self.k)\n",
        "        mu = self.mu(x).view(-1,self.k)\n",
        "        sigma = torch.exp(self.sigma(x).view(-1,self.k))\n",
        "        \n",
        "        return pi, mu, sigma\n",
        "\n",
        "        \n",
        "class mycdf(nn.Module):\n",
        "  \n",
        "    def __init__(self, k=6):\n",
        "    \n",
        "      super(mycdf, self).__init__()\n",
        "      self.k = k\n",
        "      self.batch = 0\n",
        "      self.pi = nn.Parameter(torch.randn(self.k,requires_grad=True))\n",
        "      self.mu = nn.Parameter(torch.randn(self.k,requires_grad=True))\n",
        "      self.sigma = nn.Parameter(torch.randn(self.k,requires_grad=True))\n",
        "      \n",
        "      self.fx2x1 = flow(self.k)\n",
        "          \n",
        "    \n",
        "    def log_probs(self,x):\n",
        "      x1,x2 = x[:,0],x[:,1]\n",
        "      self.batch=x1.shape[0]\n",
        "      \n",
        "      x1 = x1.reshape(-1,1)\n",
        "      x2 = x2.reshape(-1,1)\n",
        "      \n",
        "\n",
        "      pi1, mu1, sigma1 = F.softmax(self.pi.repeat(self.batch,1)),self.mu.repeat(self.batch,1),torch.exp(self.sigma.repeat(self.batch,1))\n",
        "      pi2, mu2, sigma2 = self.fx2x1.forward(x1)\n",
        "            \n",
        "      \n",
        "      #log_prob_x1 = torch.zeros(self.batch,1)\n",
        "      log_prob_x2 = torch.zeros(self.batch,1)\n",
        "      \n",
        "      for i in range(self.k):\n",
        "        #log_prob_x1 += pi1[:,i:i+1]*(Normal(mu1[:,i:i+1].float(),(sigma1[:,i:i+1]).float()).log_prob(x1).exp())\n",
        "        log_prob_x2 += pi2[:,i:i+1]*(Normal(mu2[:,i:i+1].float(),(sigma2[:,i:i+1]).float()).log_prob(x2).exp())\n",
        "      return log_prob_x2\n",
        "    \n",
        "    def loss(self,x):\n",
        "      return torch.mean(-torch.log(self.log_probs(x)))\n"
      ],
      "execution_count": 0,
      "outputs": []
    },
    {
      "cell_type": "code",
      "metadata": {
        "id": "B0d2vp6DohaI",
        "colab_type": "code",
        "colab": {}
      },
      "source": [
        "mycdf = mycdf(30)"
      ],
      "execution_count": 0,
      "outputs": []
    },
    {
      "cell_type": "code",
      "metadata": {
        "id": "-Gvs_R6Z8JXp",
        "colab_type": "code",
        "outputId": "c237f694-784d-481b-d8dd-ccdec51e4048",
        "colab": {
          "base_uri": "https://localhost:8080/",
          "height": 72
        }
      },
      "source": [
        "mycdf.loss(torch.Tensor(X[0:2]))"
      ],
      "execution_count": 0,
      "outputs": [
        {
          "output_type": "stream",
          "text": [
            "/usr/local/lib/python3.6/dist-packages/ipykernel_launcher.py:50: UserWarning: Implicit dimension choice for softmax has been deprecated. Change the call to include dim=X as an argument.\n"
          ],
          "name": "stderr"
        },
        {
          "output_type": "execute_result",
          "data": {
            "text/plain": [
              "tensor(3.2390, grad_fn=<MeanBackward0>)"
            ]
          },
          "metadata": {
            "tags": []
          },
          "execution_count": 8
        }
      ]
    },
    {
      "cell_type": "code",
      "metadata": {
        "id": "yz_pt5dmIWfO",
        "colab_type": "code",
        "outputId": "f3245e95-9f8e-4d5b-d852-b53f1d74b6a4",
        "colab": {
          "base_uri": "https://localhost:8080/",
          "height": 469
        }
      },
      "source": [
        "print(mycdf)\n",
        "optimizer = torch.optim.Adam(mycdf.parameters(),lr=3e-4, weight_decay=0.0001)\n",
        "for param in mycdf.parameters():\n",
        "    print(type(param.data), param.size())"
      ],
      "execution_count": 0,
      "outputs": [
        {
          "output_type": "stream",
          "text": [
            "mycdf(\n",
            "  (fx2x1): flow(\n",
            "    (layers): Sequential(\n",
            "      (0): Linear(in_features=1, out_features=100, bias=True)\n",
            "      (1): Tanh()\n",
            "    )\n",
            "    (network): Sequential(\n",
            "      (0): Linear(in_features=1, out_features=100, bias=True)\n",
            "      (1): Tanh()\n",
            "    )\n",
            "    (pi): Linear(in_features=100, out_features=30, bias=True)\n",
            "    (mu): Linear(in_features=100, out_features=30, bias=True)\n",
            "    (sigma): Linear(in_features=100, out_features=30, bias=True)\n",
            "  )\n",
            ")\n",
            "<class 'torch.Tensor'> torch.Size([30])\n",
            "<class 'torch.Tensor'> torch.Size([30])\n",
            "<class 'torch.Tensor'> torch.Size([30])\n",
            "<class 'torch.Tensor'> torch.Size([100, 1])\n",
            "<class 'torch.Tensor'> torch.Size([100])\n",
            "<class 'torch.Tensor'> torch.Size([30, 100])\n",
            "<class 'torch.Tensor'> torch.Size([30])\n",
            "<class 'torch.Tensor'> torch.Size([30, 100])\n",
            "<class 'torch.Tensor'> torch.Size([30])\n",
            "<class 'torch.Tensor'> torch.Size([30, 100])\n",
            "<class 'torch.Tensor'> torch.Size([30])\n"
          ],
          "name": "stdout"
        }
      ]
    },
    {
      "cell_type": "code",
      "metadata": {
        "id": "n7Q-nOS_MAvd",
        "colab_type": "code",
        "colab": {}
      },
      "source": [
        "class DataSet:\n",
        "\n",
        "    def __init__(self,X,y):\n",
        "        \"\"\"Init function should not do any heavy lifting, but\n",
        "            must initialize how many items are available in this data set.\n",
        "        \"\"\"\n",
        "        \n",
        "        self.images = X\n",
        "        self.labels = y\n",
        "\n",
        "    def __len__(self):\n",
        "        \"\"\"return number of points in our dataset\"\"\"\n",
        "\n",
        "        return len(self.images)\n",
        "\n",
        "    def __getitem__(self, idx):\n",
        "        \"\"\" Here we have to return the item requested by `idx`\n",
        "            The PyTorch DataLoader class will use this method to make an iterable for\n",
        "            our training or validation loop.\n",
        "        \"\"\"\n",
        "\n",
        "        img = self.images[idx]\n",
        "        label = self.labels[idx]\n",
        "\n",
        "        return img, label"
      ],
      "execution_count": 0,
      "outputs": []
    },
    {
      "cell_type": "code",
      "metadata": {
        "id": "cp2hgyApMVGp",
        "colab_type": "code",
        "colab": {}
      },
      "source": [
        "ds = DataSet(torch.FloatTensor(X[:5000]),torch.FloatTensor(y[:5000]))\n",
        "ds2 = DataSet(torch.FloatTensor(X[5000:5500]),torch.FloatTensor(y[5000:5500]))"
      ],
      "execution_count": 0,
      "outputs": []
    },
    {
      "cell_type": "code",
      "metadata": {
        "id": "eRdz3L1vIdwH",
        "colab_type": "code",
        "outputId": "8ae115db-c21f-4d65-ce4e-cde68d117dc5",
        "colab": {
          "base_uri": "https://localhost:8080/",
          "height": 827
        }
      },
      "source": [
        "epochs=3000\n",
        "\n",
        "losses, val_losses =[],[]\n",
        "batch_size=500\n",
        "\n",
        "\n",
        "train_iter = torch.utils.data.DataLoader(dataset=ds,batch_size=len(ds),shuffle=True)\n",
        "val_iter = torch.utils.data.DataLoader(dataset=ds2,batch_size=len(ds2),shuffle=True)\n",
        "\n",
        "losses = []\n",
        "val_losses = []\n",
        "\n",
        "for epoch in range(epochs):\n",
        "\n",
        "    loss = 0\n",
        "    for train_X, train_y in train_iter:\n",
        "\n",
        "        loss = mycdf.loss(train_X)\n",
        "        loss.backward()    \n",
        "        optimizer.step()\n",
        "        optimizer.zero_grad()\n",
        "        losses.append(loss.data.numpy())\n",
        "\n",
        "        del loss\n",
        "        loss = 0\n",
        "\n",
        "        \n",
        "\n",
        "    with torch.set_grad_enabled(False):\n",
        "        for val_X, val_y in val_iter:\n",
        "            val_loss = mycdf.loss(val_X)\n",
        "            val_losses.append(val_loss.data.numpy())\n",
        "\n",
        "    if epoch % 100 ==0:\n",
        "        print('Epoch {}: loss {} val_loss {} '.format(epoch,losses[-1],val_losses[-1]))\n",
        "\n",
        "\n",
        "import matplotlib.pyplot as plt\n",
        "\n",
        "plt.plot(losses, label = \"train_loss\")\n",
        "plt.plot(np.arange(0, len(losses),int(len(losses)/len(val_losses))),val_losses, label = \"val_loss\")\n",
        "plt.legend()\n",
        "plt.show()"
      ],
      "execution_count": 0,
      "outputs": [
        {
          "output_type": "stream",
          "text": [
            "/usr/local/lib/python3.6/dist-packages/ipykernel_launcher.py:50: UserWarning: Implicit dimension choice for softmax has been deprecated. Change the call to include dim=X as an argument.\n"
          ],
          "name": "stderr"
        },
        {
          "output_type": "stream",
          "text": [
            "Epoch 0: loss 2.788773775100708 val_loss 2.8395962715148926 \n",
            "Epoch 100: loss 1.1908419132232666 val_loss 1.1832857131958008 \n",
            "Epoch 200: loss 0.5279685854911804 val_loss 0.4924899637699127 \n",
            "Epoch 300: loss 0.45758432149887085 val_loss 0.4291677474975586 \n",
            "Epoch 400: loss 0.42946192622184753 val_loss 0.4034946858882904 \n",
            "Epoch 500: loss 0.4099801182746887 val_loss 0.3835577070713043 \n",
            "Epoch 600: loss 0.3946245610713959 val_loss 0.3664029538631439 \n",
            "Epoch 700: loss 0.3804611563682556 val_loss 0.3504752814769745 \n",
            "Epoch 800: loss 0.347687304019928 val_loss 0.3104380965232849 \n",
            "Epoch 900: loss 0.3263089954853058 val_loss 0.29057615995407104 \n",
            "Epoch 1000: loss 0.31165990233421326 val_loss 0.27569374442100525 \n",
            "Epoch 1100: loss 0.3005983531475067 val_loss 0.26373177766799927 \n",
            "Epoch 1200: loss 0.29214581847190857 val_loss 0.25417929887771606 \n",
            "Epoch 1300: loss 0.28581100702285767 val_loss 0.24691186845302582 \n",
            "Epoch 1400: loss 0.28097862005233765 val_loss 0.2410694658756256 \n",
            "Epoch 1500: loss 0.277323842048645 val_loss 0.23668596148490906 \n",
            "Epoch 1600: loss 0.27468231320381165 val_loss 0.23310287296772003 \n",
            "Epoch 1700: loss 0.2725532054901123 val_loss 0.23012201488018036 \n",
            "Epoch 1800: loss 0.27157580852508545 val_loss 0.2283882051706314 \n",
            "Epoch 1900: loss 0.27044209837913513 val_loss 0.22634071111679077 \n",
            "Epoch 2000: loss 0.2700560688972473 val_loss 0.22529758512973785 \n",
            "Epoch 2100: loss 0.2692629396915436 val_loss 0.22367864847183228 \n",
            "Epoch 2200: loss 0.26871100068092346 val_loss 0.22292017936706543 \n",
            "Epoch 2300: loss 0.2682581841945648 val_loss 0.22242268919944763 \n",
            "Epoch 2400: loss 0.26785948872566223 val_loss 0.2221471518278122 \n",
            "Epoch 2500: loss 0.2674461901187897 val_loss 0.22189368307590485 \n",
            "Epoch 2600: loss 0.267049640417099 val_loss 0.22162854671478271 \n",
            "Epoch 2700: loss 0.2666128873825073 val_loss 0.22140084207057953 \n",
            "Epoch 2800: loss 0.26581722497940063 val_loss 0.22140204906463623 \n",
            "Epoch 2900: loss 0.2654285430908203 val_loss 0.22128863632678986 \n"
          ],
          "name": "stdout"
        },
        {
          "output_type": "display_data",
          "data": {
            "image/png": "[encoded data removed]",
            "text/plain": [
              "<Figure size 432x288 with 1 Axes>"
            ]
          },
          "metadata": {
            "tags": []
          }
        }
      ]
    },
    {
      "cell_type": "code",
      "metadata": {
        "id": "JPiiCzbpY4PS",
        "colab_type": "code",
        "colab": {}
      },
      "source": [
        "from torch.autograd import Variable\n",
        "def sample_mode(pi, sigmasq, mu):\n",
        "  # for prediction, could use conditional mode, but it doesn't\n",
        "  # have an analytical solution (PRML p. 277). alternative is\n",
        "  # to return the mean vector of the most probable component,\n",
        "  # which is the approximate conditional mode from the mixture\n",
        "  # NOTE: this breaks autograd, but that's fine because we\n",
        "  # won't be computing gradients for this path\n",
        "  # NOTE: pi, sigmasq, & mu are tensors\n",
        "  n, k = pi.shape\n",
        "  _, kt = mu.shape\n",
        "  t = int(kt / k)\n",
        "  _, max_component = torch.max(pi, 1)  # mixture w/ largest prob, i.e., argmax_k p(z==1)\n",
        "  out = Variable(torch.zeros(n, t))\n",
        "  for i in range(n):\n",
        "    for j in range(t):\n",
        "      out[i, j] = mu[i, max_component.data[i]*t+j]\n",
        "  return out\n",
        "\n",
        "\n",
        "def sample_preds(pi, sigmasq, mu, samples=1000):\n",
        "  # rather than sample the single conditional mode at each\n",
        "  # point, we could sample many points from the GMM produced\n",
        "  # by the model for each point, yielding a dense set of\n",
        "  # predictions\n",
        "  N, K = pi.shape\n",
        "  _, KT = mu.shape\n",
        "  T = int(KT / K)\n",
        "  out = Variable(torch.zeros(N, samples, T))  # s samples per example\n",
        "  for i in range(N):\n",
        "    for j in range(samples):\n",
        "      # pi must sum to 1, thus we can sample from a uniform\n",
        "      # distribution, then transform that to select the component\n",
        "      u = np.random.uniform()  # sample from [0, 1)\n",
        "      # split [0, 1] into k segments: [0, pi[0]), [pi[0], pi[1]), ..., [pi[K-1], pi[K])\n",
        "      # then determine the segment `u` that falls into and sample from that component\n",
        "      prob_sum = 0\n",
        "      for k in range(K):\n",
        "        prob_sum += pi.data[i, k]\n",
        "        if u < prob_sum:\n",
        "          # sample from the kth component\n",
        "          for t in range(T):\n",
        "            sample = np.random.normal(mu.data[i, k*T+t], np.sqrt(sigmasq.data[i, k]))\n",
        "            out[i, j, t] = sample\n",
        "          break\n",
        "  return out\n"
      ],
      "execution_count": 0,
      "outputs": []
    },
    {
      "cell_type": "code",
      "metadata": {
        "id": "RRZT2Pa0bNsc",
        "colab_type": "code",
        "outputId": "57a711fd-9abe-4e5a-b885-f51b15c1dfd2",
        "colab": {
          "base_uri": "https://localhost:8080/",
          "height": 72
        }
      },
      "source": [
        "pi1, mu1, sigma1 = F.softmax(mycdf.pi).view(1,-1),mycdf.mu.view(1,-1),torch.exp(mycdf.sigma).view(1,-1)"
      ],
      "execution_count": 0,
      "outputs": [
        {
          "output_type": "stream",
          "text": [
            "/usr/local/lib/python3.6/dist-packages/ipykernel_launcher.py:1: UserWarning: Implicit dimension choice for softmax has been deprecated. Change the call to include dim=X as an argument.\n",
            "  \"\"\"Entry point for launching an IPython kernel.\n"
          ],
          "name": "stderr"
        }
      ]
    },
    {
      "cell_type": "code",
      "metadata": {
        "id": "KlvEtL9-77US",
        "colab_type": "code",
        "colab": {}
      },
      "source": [
        "preds_x = sample_preds(pi1, sigma1, mu1, samples=10000)"
      ],
      "execution_count": 0,
      "outputs": []
    },
    {
      "cell_type": "code",
      "metadata": {
        "id": "marSJp848UBq",
        "colab_type": "code",
        "colab": {}
      },
      "source": [
        "pi2, mu2, sigma2 = mycdf.fx2x1(preds_x)"
      ],
      "execution_count": 0,
      "outputs": []
    },
    {
      "cell_type": "code",
      "metadata": {
        "id": "GXp5kTK78qAs",
        "colab_type": "code",
        "colab": {}
      },
      "source": [
        "predsx2 = sample_preds(pi2,sigma2,mu2,samples=1)"
      ],
      "execution_count": 0,
      "outputs": []
    },
    {
      "cell_type": "code",
      "metadata": {
        "id": "sOxi8MchID4m",
        "colab_type": "code",
        "outputId": "b0c6b7c6-4ae8-4a7a-f968-5701396edcad",
        "colab": {
          "base_uri": "https://localhost:8080/",
          "height": 34
        }
      },
      "source": [
        "preds_x.shape"
      ],
      "execution_count": 0,
      "outputs": [
        {
          "output_type": "execute_result",
          "data": {
            "text/plain": [
              "torch.Size([1, 1000, 1])"
            ]
          },
          "metadata": {
            "tags": []
          },
          "execution_count": 170
        }
      ]
    },
    {
      "cell_type": "code",
      "metadata": {
        "id": "FKGNNdGW7HT7",
        "colab_type": "code",
        "outputId": "ba4473c4-7b85-49a5-cc62-9fc6d6fd0d64",
        "colab": {
          "base_uri": "https://localhost:8080/",
          "height": 486
        }
      },
      "source": [
        "fig = plt.figure(figsize=(8,8))\n",
        "plt.plot(X[:,0], X[:,1], 'go', alpha=0.5, markerfacecolor='none')\n",
        "for i in range(predsx2.shape[0]):\n",
        "  plt.plot(preds_x.squeeze(0).detach().numpy()[i], predsx2.squeeze(1).numpy()[i], 'r.', alpha=0.3)\n",
        "plt.show()"
      ],
      "execution_count": 0,
      "outputs": [
        {
          "output_type": "display_data",
          "data": {
            "image/png": "[encoded data removed]",
            "text/plain": [
              "<Figure size 576x576 with 1 Axes>"
            ]
          },
          "metadata": {
            "tags": []
          }
        }
      ]
    },
    {
      "cell_type": "code",
      "metadata": {
        "id": "G9Coqr-q5n07",
        "colab_type": "code",
        "colab": {}
      },
      "source": [
        ""
      ],
      "execution_count": 0,
      "outputs": []
    },
    {
      "cell_type": "markdown",
      "metadata": {
        "id": "t3PWl6p25oLy",
        "colab_type": "text"
      },
      "source": [
        "## RealNVP"
      ]
    },
    {
      "cell_type": "code",
      "metadata": {
        "id": "VvGE47z16A7Q",
        "colab_type": "code",
        "colab": {}
      },
      "source": [
        "\n",
        "import numpy as np\n",
        "import matplotlib.pyplot as plt\n",
        "%matplotlib inline\n",
        "\n",
        "#from pylab import rcParams\n",
        "#rcParams['figure.figsize'] = 10, 8\n",
        "#rcParams['figure.dpi'] = 300\n",
        "\n",
        "import torch\n",
        "from torch import nn\n",
        "from torch import distributions\n",
        "from torch.nn.parameter import Parameter\n",
        "\n",
        "from sklearn import cluster, datasets, mixture\n",
        "from sklearn.preprocessing import StandardScaler"
      ],
      "execution_count": 0,
      "outputs": []
    },
    {
      "cell_type": "code",
      "metadata": {
        "id": "Ne0MHKKW6Dft",
        "colab_type": "code",
        "colab": {}
      },
      "source": [
        "class RealNVP(nn.Module):\n",
        "    def __init__(self, nets, nett, mask, prior):\n",
        "        super(RealNVP, self).__init__()\n",
        "        \n",
        "        self.prior = prior\n",
        "        self.mask = nn.Parameter(mask, requires_grad=False)\n",
        "        self.t = torch.nn.ModuleList([nett() for _ in range(len(masks))])\n",
        "        self.s = torch.nn.ModuleList([nets() for _ in range(len(masks))])\n",
        "        \n",
        "    def g(self, z):\n",
        "        x = z\n",
        "        for i in range(len(self.t)):\n",
        "            x_ = x*self.mask[i]\n",
        "            s = self.s[i](x_)*(1 - self.mask[i])\n",
        "            t = self.t[i](x_)*(1 - self.mask[i])\n",
        "            x = x_ + (1 - self.mask[i]) * (x * torch.exp(s) + t)\n",
        "        return x\n",
        "\n",
        "    def f(self, x):\n",
        "        log_det_J, z = x.new_zeros(x.shape[0]), x\n",
        "        for i in reversed(range(len(self.t))):\n",
        "            z_ = self.mask[i] * z\n",
        "            s = self.s[i](z_) * (1-self.mask[i])\n",
        "            t = self.t[i](z_) * (1-self.mask[i])\n",
        "            z = (1 - self.mask[i]) * (z - t) * torch.exp(-s) + z_\n",
        "            log_det_J -= s.sum(dim=1)\n",
        "        return z, log_det_J\n",
        "    \n",
        "    def log_prob(self,x):\n",
        "        z, logp = self.f(x)\n",
        "        return self.prior.log_prob(z) + logp\n",
        "        \n",
        "    def sample(self, batchSize): \n",
        "        z = self.prior.sample((batchSize, 1))\n",
        "        logp = self.prior.log_prob(z)\n",
        "        x = self.g(z)\n",
        "        return x"
      ],
      "execution_count": 0,
      "outputs": []
    },
    {
      "cell_type": "code",
      "metadata": {
        "id": "AV_Rjl9B6G6V",
        "colab_type": "code",
        "colab": {}
      },
      "source": [
        "nets = lambda: nn.Sequential(nn.Linear(2, 256), nn.LeakyReLU(), nn.Linear(256, 256), nn.LeakyReLU(), nn.Linear(256, 2), nn.Tanh())\n",
        "nett = lambda: nn.Sequential(nn.Linear(2, 256), nn.LeakyReLU(), nn.Linear(256, 256), nn.LeakyReLU(), nn.Linear(256, 2))\n",
        "masks = torch.from_numpy(np.array([[0, 1], [1, 0]] * 3).astype(np.float32))\n",
        "prior = distributions.MultivariateNormal(torch.zeros(2), torch.eye(2))\n",
        "flow = RealNVP(nets, nett, masks, prior)"
      ],
      "execution_count": 0,
      "outputs": []
    },
    {
      "cell_type": "code",
      "metadata": {
        "id": "kt4MxZIT6Ibm",
        "colab_type": "code",
        "outputId": "3dfb6a85-4d64-4376-d1b5-25e8ce2731e4",
        "colab": {
          "base_uri": "https://localhost:8080/",
          "height": 443
        }
      },
      "source": [
        "epochs=1000\n",
        "optimizer = torch.optim.Adam([p for p in flow.parameters() if p.requires_grad==True], lr=1e-4)\n",
        "batch_size=500\n",
        "\n",
        "\n",
        "train_iter = torch.utils.data.DataLoader(dataset=ds,batch_size=len(ds),shuffle=True)\n",
        "val_iter = torch.utils.data.DataLoader(dataset=ds2,batch_size=len(ds2),shuffle=True)\n",
        "\n",
        "losses = []\n",
        "val_losses = []\n",
        "\n",
        "for epoch in range(epochs):\n",
        "\n",
        "    loss = 0\n",
        "    for train_X, train_y in train_iter:\n",
        "      \n",
        "        loss = -flow.log_prob(train_X).mean()\n",
        "\n",
        "        loss.backward(retain_graph=True)    \n",
        "        optimizer.step()\n",
        "        optimizer.zero_grad()\n",
        "        losses.append(loss.data.numpy())\n",
        "\n",
        "        del loss\n",
        "        loss = 0\n",
        "\n",
        "        \n",
        "\n",
        "    with torch.set_grad_enabled(False):\n",
        "        for val_X, val_y in val_iter:\n",
        "            val_loss = -flow.log_prob(val_X).mean()\n",
        "            val_losses.append(val_loss.data.numpy())\n",
        "\n",
        "    if epoch % 100 ==0:\n",
        "        print('Epoch {}: loss {} val_loss {} '.format(epoch,losses[-1],val_losses[-1]))\n",
        "\n",
        "\n",
        "import matplotlib.pyplot as plt\n",
        "\n",
        "plt.plot(losses, label = \"train_loss\")\n",
        "plt.plot(np.arange(0, len(losses),int(len(losses)/len(val_losses))),val_losses, label = \"val_loss\")\n",
        "plt.legend()\n",
        "plt.show()\n",
        "\n",
        "#for t in range(5001):    \n",
        "    #noisy_moons = datasets.make_moons(n_samples=100, noise=.05)[0].astype(np.float32)\n",
        "#    loss = -flow.log_prob(torch.from_numpy(data.astype(np.float32))).mean()\n",
        "    \n",
        "#    optimizer.zero_grad()\n",
        "#    loss.backward(retain_graph=True)\n",
        "#    optimizer.step()\n",
        "    \n",
        "#    if t % 500 == 0:\n",
        "#        print('iter %s:' % t, 'loss = %.3f' % loss)"
      ],
      "execution_count": 0,
      "outputs": [
        {
          "output_type": "stream",
          "text": [
            "Epoch 0: loss 4.791193962097168 val_loss 4.455811500549316 \n",
            "Epoch 100: loss 1.8499244451522827 val_loss 1.8180183172225952 \n",
            "Epoch 200: loss 1.5462356805801392 val_loss 1.485290288925171 \n",
            "Epoch 300: loss 1.473760724067688 val_loss 1.4015341997146606 \n",
            "Epoch 400: loss 1.4328422546386719 val_loss 1.3607068061828613 \n",
            "Epoch 500: loss 1.4097005128860474 val_loss 1.3389495611190796 \n",
            "Epoch 600: loss 1.3934580087661743 val_loss 1.3251596689224243 \n",
            "Epoch 700: loss 1.380553960800171 val_loss 1.3267284631729126 \n",
            "Epoch 800: loss 1.3780399560928345 val_loss 1.3162448406219482 \n",
            "Epoch 900: loss 1.3709025382995605 val_loss 1.3130033016204834 \n"
          ],
          "name": "stdout"
        },
        {
          "output_type": "display_data",
          "data": {
            "image/png": "[encoded data removed]",
            "text/plain": [
              "<Figure size 432x288 with 1 Axes>"
            ]
          },
          "metadata": {
            "tags": []
          }
        }
      ]
    },
    {
      "cell_type": "code",
      "metadata": {
        "id": "dq50jRt1qnE4",
        "colab_type": "code",
        "outputId": "29c4cc48-f761-4faa-874a-dc05edb35ff6",
        "colab": {
          "base_uri": "https://localhost:8080/",
          "height": 139
        }
      },
      "source": [
        ""
      ],
      "execution_count": 0,
      "outputs": [
        {
          "output_type": "execute_result",
          "data": {
            "text/plain": [
              "array([[-0.969312  , -1.723027  ],\n",
              "       [ 2.0786195 ,  1.8896178 ],\n",
              "       [-1.120279  , -0.5105021 ],\n",
              "       ...,\n",
              "       [ 0.85011953, -0.19426137],\n",
              "       [-0.27923554, -0.65206987],\n",
              "       [ 0.8996635 , -1.7622066 ]], dtype=float32)"
            ]
          },
          "metadata": {
            "tags": []
          },
          "execution_count": 36
        }
      ]
    },
    {
      "cell_type": "code",
      "metadata": {
        "id": "NeVuXlEo6LTM",
        "colab_type": "code",
        "outputId": "b740b1d8-5a99-4083-e79f-031b4b35430f",
        "colab": {
          "base_uri": "https://localhost:8080/",
          "height": 246
        }
      },
      "source": [
        "fig = plt.figure(figsize=(3, 3))\n",
        "z = flow.f(train_X)[0].detach().numpy()\n",
        "plt.subplot(221)\n",
        "plt.scatter(z[:, 0], z[:, 1])\n",
        "plt.title(r'$z = f(X)$')\n",
        "\n",
        "z = np.random.multivariate_normal(np.zeros(2), np.eye(2), 1000)\n",
        "plt.subplot(222)\n",
        "plt.scatter(z[:, 0], z[:, 1])\n",
        "plt.title(r'$z \\sim p(z)$')\n",
        "\n",
        "\n",
        "plt.subplot(223)\n",
        "x = train_X #datasets.make_moons(n_samples=1000, noise=.05)[0].astype(np.float32)\n",
        "plt.scatter(x[:, 0], x[:, 1], c='r')\n",
        "plt.title(r'$X \\sim p(X)$')\n",
        "\n",
        "plt.subplot(224)\n",
        "x = flow.sample(1000).detach().numpy()\n",
        "plt.scatter(x[:, 0, 0], x[:, 0, 1], c='r')\n"
      ],
      "execution_count": 0,
      "outputs": [
        {
          "output_type": "execute_result",
          "data": {
            "text/plain": [
              "<matplotlib.collections.PathCollection at 0x7f3b08876080>"
            ]
          },
          "metadata": {
            "tags": []
          },
          "execution_count": 39
        },
        {
          "output_type": "display_data",
          "data": {
            "image/png": "[encoded data removed]",
            "text/plain": [
              "<Figure size 216x216 with 4 Axes>"
            ]
          },
          "metadata": {
            "tags": []
          }
        }
      ]
    }
  ]
}